{
 "cells": [
  {
   "cell_type": "code",
   "execution_count": 1,
   "id": "dfb2c09b",
   "metadata": {
    "_cell_guid": "b1076dfc-b9ad-4769-8c92-a6c4dae69d19",
    "_uuid": "8f2839f25d086af736a60e9eeb907d3b93b6e0e5",
    "execution": {
     "iopub.execute_input": "2025-04-26T19:14:45.629722Z",
     "iopub.status.busy": "2025-04-26T19:14:45.629434Z",
     "iopub.status.idle": "2025-04-26T19:14:58.912478Z",
     "shell.execute_reply": "2025-04-26T19:14:58.911587Z"
    },
    "papermill": {
     "duration": 13.291162,
     "end_time": "2025-04-26T19:14:58.914052",
     "exception": false,
     "start_time": "2025-04-26T19:14:45.622890",
     "status": "completed"
    },
    "tags": []
   },
   "outputs": [],
   "source": [
    "import os\n",
    "import numpy as np\n",
    "import seaborn as sns\n",
    "import matplotlib.pyplot as plt\n",
    "import pandas as pd\n",
    "\n",
    "import torch\n",
    "from torch import nn\n",
    "from torch.utils.data import DataLoader\n",
    "from torchvision import datasets, transforms\n",
    "from torchvision.models import resnet18\n",
    "from torchvision.models import ResNet18_Weights\n",
    "from sklearn.metrics import confusion_matrix, classification_report"
   ]
  },
  {
   "cell_type": "code",
   "execution_count": 2,
   "id": "b8ab33cf",
   "metadata": {
    "execution": {
     "iopub.execute_input": "2025-04-26T19:14:58.923675Z",
     "iopub.status.busy": "2025-04-26T19:14:58.923347Z",
     "iopub.status.idle": "2025-04-26T19:14:59.021886Z",
     "shell.execute_reply": "2025-04-26T19:14:59.020959Z"
    },
    "papermill": {
     "duration": 0.104592,
     "end_time": "2025-04-26T19:14:59.023216",
     "exception": false,
     "start_time": "2025-04-26T19:14:58.918624",
     "status": "completed"
    },
    "tags": []
   },
   "outputs": [
    {
     "name": "stdout",
     "output_type": "stream",
     "text": [
      "Using device: cuda\n"
     ]
    }
   ],
   "source": [
    "# Set device\n",
    "device = 'cuda' if torch.cuda.is_available() else 'cpu'\n",
    "print(\"Using device:\", device)"
   ]
  },
  {
   "cell_type": "code",
   "execution_count": 3,
   "id": "6aacea14",
   "metadata": {
    "execution": {
     "iopub.execute_input": "2025-04-26T19:14:59.032710Z",
     "iopub.status.busy": "2025-04-26T19:14:59.032452Z",
     "iopub.status.idle": "2025-04-26T19:15:03.501128Z",
     "shell.execute_reply": "2025-04-26T19:15:03.499950Z"
    },
    "papermill": {
     "duration": 4.475344,
     "end_time": "2025-04-26T19:15:03.502910",
     "exception": false,
     "start_time": "2025-04-26T19:14:59.027566",
     "status": "completed"
    },
    "tags": []
   },
   "outputs": [
    {
     "name": "stderr",
     "output_type": "stream",
     "text": [
      "Downloading: \"https://download.pytorch.org/models/resnet18-f37072fd.pth\" to /root/.cache/torch/hub/checkpoints/resnet18-f37072fd.pth\n",
      "100%|██████████| 44.7M/44.7M [00:03<00:00, 12.8MB/s]\n"
     ]
    }
   ],
   "source": [
    "resnet_model = resnet18(weights=ResNet18_Weights.IMAGENET1K_V1)"
   ]
  },
  {
   "cell_type": "code",
   "execution_count": 4,
   "id": "732f42c1",
   "metadata": {
    "execution": {
     "iopub.execute_input": "2025-04-26T19:15:03.515306Z",
     "iopub.status.busy": "2025-04-26T19:15:03.514979Z",
     "iopub.status.idle": "2025-04-26T19:15:03.518860Z",
     "shell.execute_reply": "2025-04-26T19:15:03.518263Z"
    },
    "papermill": {
     "duration": 0.011173,
     "end_time": "2025-04-26T19:15:03.519818",
     "exception": false,
     "start_time": "2025-04-26T19:15:03.508645",
     "status": "completed"
    },
    "tags": []
   },
   "outputs": [],
   "source": [
    "data_transform = transforms.Compose([\n",
    "    transforms.Resize(size=(224, 224)),\n",
    "     transforms.RandomHorizontalFlip(p=0.7),\n",
    "    transforms.RandomRotation(10),\n",
    "    transforms.ToTensor(),\n",
    " \n",
    "\n",
    "]) "
   ]
  },
  {
   "cell_type": "code",
   "execution_count": 5,
   "id": "ba282e71",
   "metadata": {
    "execution": {
     "iopub.execute_input": "2025-04-26T19:15:03.531248Z",
     "iopub.status.busy": "2025-04-26T19:15:03.531011Z",
     "iopub.status.idle": "2025-04-26T19:15:05.536337Z",
     "shell.execute_reply": "2025-04-26T19:15:05.535297Z"
    },
    "papermill": {
     "duration": 2.013149,
     "end_time": "2025-04-26T19:15:05.538413",
     "exception": false,
     "start_time": "2025-04-26T19:15:03.525264",
     "status": "completed"
    },
    "tags": []
   },
   "outputs": [
    {
     "data": {
      "text/plain": [
       "(Dataset ImageFolder\n",
       "     Number of datapoints: 613\n",
       "     Root location: /kaggle/input/chest-ctscan-images/Data/train\n",
       "     StandardTransform\n",
       " Transform: Compose(\n",
       "                Resize(size=(224, 224), interpolation=bilinear, max_size=None, antialias=True)\n",
       "                RandomHorizontalFlip(p=0.7)\n",
       "                RandomRotation(degrees=[-10.0, 10.0], interpolation=nearest, expand=False, fill=0)\n",
       "                ToTensor()\n",
       "            ),\n",
       " Dataset ImageFolder\n",
       "     Number of datapoints: 315\n",
       "     Root location: /kaggle/input/chest-ctscan-images/Data/test\n",
       "     StandardTransform\n",
       " Transform: Compose(\n",
       "                Resize(size=(224, 224), interpolation=bilinear, max_size=None, antialias=True)\n",
       "                RandomHorizontalFlip(p=0.7)\n",
       "                RandomRotation(degrees=[-10.0, 10.0], interpolation=nearest, expand=False, fill=0)\n",
       "                ToTensor()\n",
       "            ),\n",
       " Dataset ImageFolder\n",
       "     Number of datapoints: 72\n",
       "     Root location: /kaggle/input/chest-ctscan-images/Data/valid\n",
       "     StandardTransform\n",
       " Transform: Compose(\n",
       "                Resize(size=(224, 224), interpolation=bilinear, max_size=None, antialias=True)\n",
       "                RandomHorizontalFlip(p=0.7)\n",
       "                RandomRotation(degrees=[-10.0, 10.0], interpolation=nearest, expand=False, fill=0)\n",
       "                ToTensor()\n",
       "            ))"
      ]
     },
     "execution_count": 5,
     "metadata": {},
     "output_type": "execute_result"
    }
   ],
   "source": [
    "train_data = datasets.ImageFolder(root=\"/kaggle/input/chest-ctscan-images/Data/train\",\n",
    "                                  transform=data_transform, \n",
    "                                  target_transform=None) \n",
    "\n",
    "test_data = datasets.ImageFolder(root=\"/kaggle/input/chest-ctscan-images/Data/test\",\n",
    "                                 transform=data_transform)\n",
    "\n",
    "\n",
    "validation_data = datasets.ImageFolder(root=\"/kaggle/input/chest-ctscan-images/Data/valid\",\n",
    "                                 transform=data_transform)\n",
    "train_data, test_data ,validation_data"
   ]
  },
  {
   "cell_type": "code",
   "execution_count": 6,
   "id": "b76f276c",
   "metadata": {
    "execution": {
     "iopub.execute_input": "2025-04-26T19:15:05.559912Z",
     "iopub.status.busy": "2025-04-26T19:15:05.559480Z",
     "iopub.status.idle": "2025-04-26T19:15:05.659515Z",
     "shell.execute_reply": "2025-04-26T19:15:05.658787Z"
    },
    "papermill": {
     "duration": 0.112167,
     "end_time": "2025-04-26T19:15:05.660920",
     "exception": false,
     "start_time": "2025-04-26T19:15:05.548753",
     "status": "completed"
    },
    "tags": []
   },
   "outputs": [
    {
     "data": {
      "text/plain": [
       "(tensor([[[0., 0., 0.,  ..., 0., 0., 0.],\n",
       "          [0., 0., 0.,  ..., 0., 0., 0.],\n",
       "          [0., 0., 0.,  ..., 0., 0., 0.],\n",
       "          ...,\n",
       "          [0., 0., 0.,  ..., 0., 0., 0.],\n",
       "          [0., 0., 0.,  ..., 0., 0., 0.],\n",
       "          [0., 0., 0.,  ..., 0., 0., 0.]],\n",
       " \n",
       "         [[0., 0., 0.,  ..., 0., 0., 0.],\n",
       "          [0., 0., 0.,  ..., 0., 0., 0.],\n",
       "          [0., 0., 0.,  ..., 0., 0., 0.],\n",
       "          ...,\n",
       "          [0., 0., 0.,  ..., 0., 0., 0.],\n",
       "          [0., 0., 0.,  ..., 0., 0., 0.],\n",
       "          [0., 0., 0.,  ..., 0., 0., 0.]],\n",
       " \n",
       "         [[0., 0., 0.,  ..., 0., 0., 0.],\n",
       "          [0., 0., 0.,  ..., 0., 0., 0.],\n",
       "          [0., 0., 0.,  ..., 0., 0., 0.],\n",
       "          ...,\n",
       "          [0., 0., 0.,  ..., 0., 0., 0.],\n",
       "          [0., 0., 0.,  ..., 0., 0., 0.],\n",
       "          [0., 0., 0.,  ..., 0., 0., 0.]]]),\n",
       " 3)"
      ]
     },
     "execution_count": 6,
     "metadata": {},
     "output_type": "execute_result"
    }
   ],
   "source": [
    "train_data[np.random.randint(0 , len(train_data))]"
   ]
  },
  {
   "cell_type": "code",
   "execution_count": 7,
   "id": "88989c6d",
   "metadata": {
    "execution": {
     "iopub.execute_input": "2025-04-26T19:15:05.674148Z",
     "iopub.status.busy": "2025-04-26T19:15:05.673520Z",
     "iopub.status.idle": "2025-04-26T19:15:05.678448Z",
     "shell.execute_reply": "2025-04-26T19:15:05.677813Z"
    },
    "papermill": {
     "duration": 0.012353,
     "end_time": "2025-04-26T19:15:05.679588",
     "exception": false,
     "start_time": "2025-04-26T19:15:05.667235",
     "status": "completed"
    },
    "tags": []
   },
   "outputs": [
    {
     "data": {
      "text/plain": [
       "(613, 315)"
      ]
     },
     "execution_count": 7,
     "metadata": {},
     "output_type": "execute_result"
    }
   ],
   "source": [
    "len(train_data), len(test_data)"
   ]
  },
  {
   "cell_type": "code",
   "execution_count": 8,
   "id": "5c38886d",
   "metadata": {
    "execution": {
     "iopub.execute_input": "2025-04-26T19:15:05.691910Z",
     "iopub.status.busy": "2025-04-26T19:15:05.691699Z",
     "iopub.status.idle": "2025-04-26T19:15:05.696452Z",
     "shell.execute_reply": "2025-04-26T19:15:05.695852Z"
    },
    "papermill": {
     "duration": 0.012125,
     "end_time": "2025-04-26T19:15:05.697620",
     "exception": false,
     "start_time": "2025-04-26T19:15:05.685495",
     "status": "completed"
    },
    "tags": []
   },
   "outputs": [
    {
     "data": {
      "text/plain": [
       "['adenocarcinoma_left.lower.lobe_T2_N0_M0_Ib',\n",
       " 'large.cell.carcinoma_left.hilum_T2_N2_M0_IIIa',\n",
       " 'normal',\n",
       " 'squamous.cell.carcinoma_left.hilum_T1_N2_M0_IIIa']"
      ]
     },
     "execution_count": 8,
     "metadata": {},
     "output_type": "execute_result"
    }
   ],
   "source": [
    "class_names = train_data.classes\n",
    "class_names"
   ]
  },
  {
   "cell_type": "code",
   "execution_count": 9,
   "id": "b3437af9",
   "metadata": {
    "execution": {
     "iopub.execute_input": "2025-04-26T19:15:05.709625Z",
     "iopub.status.busy": "2025-04-26T19:15:05.709427Z",
     "iopub.status.idle": "2025-04-26T19:15:05.714260Z",
     "shell.execute_reply": "2025-04-26T19:15:05.713494Z"
    },
    "papermill": {
     "duration": 0.012157,
     "end_time": "2025-04-26T19:15:05.715531",
     "exception": false,
     "start_time": "2025-04-26T19:15:05.703374",
     "status": "completed"
    },
    "tags": []
   },
   "outputs": [
    {
     "data": {
      "text/plain": [
       "{'adenocarcinoma_left.lower.lobe_T2_N0_M0_Ib': 0,\n",
       " 'large.cell.carcinoma_left.hilum_T2_N2_M0_IIIa': 1,\n",
       " 'normal': 2,\n",
       " 'squamous.cell.carcinoma_left.hilum_T1_N2_M0_IIIa': 3}"
      ]
     },
     "execution_count": 9,
     "metadata": {},
     "output_type": "execute_result"
    }
   ],
   "source": [
    "class_dict = train_data.class_to_idx\n",
    "class_dict"
   ]
  },
  {
   "cell_type": "code",
   "execution_count": 10,
   "id": "4e959575",
   "metadata": {
    "execution": {
     "iopub.execute_input": "2025-04-26T19:15:05.728604Z",
     "iopub.status.busy": "2025-04-26T19:15:05.728213Z",
     "iopub.status.idle": "2025-04-26T19:15:05.733544Z",
     "shell.execute_reply": "2025-04-26T19:15:05.732847Z"
    },
    "papermill": {
     "duration": 0.013259,
     "end_time": "2025-04-26T19:15:05.734753",
     "exception": false,
     "start_time": "2025-04-26T19:15:05.721494",
     "status": "completed"
    },
    "tags": []
   },
   "outputs": [
    {
     "name": "stdout",
     "output_type": "stream",
     "text": [
      "{'normal': 2, 'adenocarcinoma_left.lower.lobe': 0, 'large.cell.carcinoma_left.hilum': 1, 'squamous.cell.carcinoma_left.hilum': 3}\n"
     ]
    }
   ],
   "source": [
    "old_key1 = 'adenocarcinoma_left.lower.lobe_T2_N0_M0_Ib'\n",
    "new_key1 = 'adenocarcinoma_left.lower.lobe'\n",
    "\n",
    "old_key2 = 'large.cell.carcinoma_left.hilum_T2_N2_M0_IIIa'\n",
    "new_key2 = 'large.cell.carcinoma_left.hilum'\n",
    "\n",
    "old_key3 = 'squamous.cell.carcinoma_left.hilum_T1_N2_M0_IIIa'\n",
    "new_key3 = 'squamous.cell.carcinoma_left.hilum'\n",
    "\n",
    "class_dict[new_key1] = class_dict[old_key1]\n",
    "class_dict[new_key2] = class_dict[old_key2]\n",
    "class_dict[new_key3] = class_dict[old_key3]\n",
    "\n",
    "del class_dict[old_key1]\n",
    "del class_dict[old_key2]\n",
    "del class_dict[old_key3]\n",
    "\n",
    "print(class_dict)"
   ]
  },
  {
   "cell_type": "code",
   "execution_count": 11,
   "id": "84ec1e2d",
   "metadata": {
    "execution": {
     "iopub.execute_input": "2025-04-26T19:15:05.748417Z",
     "iopub.status.busy": "2025-04-26T19:15:05.747704Z",
     "iopub.status.idle": "2025-04-26T19:15:05.752941Z",
     "shell.execute_reply": "2025-04-26T19:15:05.752309Z"
    },
    "papermill": {
     "duration": 0.013037,
     "end_time": "2025-04-26T19:15:05.754008",
     "exception": false,
     "start_time": "2025-04-26T19:15:05.740971",
     "status": "completed"
    },
    "tags": []
   },
   "outputs": [
    {
     "data": {
      "text/plain": [
       "['adenocarcinoma_left.lower.lobe',\n",
       " 'large.cell.carcinoma_left.hilum',\n",
       " 'normal',\n",
       " 'squamous.cell.carcinoma_left.hilum']"
      ]
     },
     "execution_count": 11,
     "metadata": {},
     "output_type": "execute_result"
    }
   ],
   "source": [
    "class_names[0]=new_key1\n",
    "class_names[1]=new_key2\n",
    "class_names[3]=new_key3\n",
    "class_names"
   ]
  },
  {
   "cell_type": "code",
   "execution_count": 12,
   "id": "36a8b33b",
   "metadata": {
    "execution": {
     "iopub.execute_input": "2025-04-26T19:15:05.767279Z",
     "iopub.status.busy": "2025-04-26T19:15:05.767023Z",
     "iopub.status.idle": "2025-04-26T19:15:05.771694Z",
     "shell.execute_reply": "2025-04-26T19:15:05.771029Z"
    },
    "papermill": {
     "duration": 0.012553,
     "end_time": "2025-04-26T19:15:05.772753",
     "exception": false,
     "start_time": "2025-04-26T19:15:05.760200",
     "status": "completed"
    },
    "tags": []
   },
   "outputs": [
    {
     "data": {
      "text/plain": [
       "(613, 315)"
      ]
     },
     "execution_count": 12,
     "metadata": {},
     "output_type": "execute_result"
    }
   ],
   "source": [
    "len(train_data), len(test_data)"
   ]
  },
  {
   "cell_type": "code",
   "execution_count": 13,
   "id": "46335869",
   "metadata": {
    "execution": {
     "iopub.execute_input": "2025-04-26T19:15:05.786033Z",
     "iopub.status.busy": "2025-04-26T19:15:05.785822Z",
     "iopub.status.idle": "2025-04-26T19:15:05.804794Z",
     "shell.execute_reply": "2025-04-26T19:15:05.804242Z"
    },
    "papermill": {
     "duration": 0.027125,
     "end_time": "2025-04-26T19:15:05.805989",
     "exception": false,
     "start_time": "2025-04-26T19:15:05.778864",
     "status": "completed"
    },
    "tags": []
   },
   "outputs": [],
   "source": [
    "random_idx = torch.randint(0, len(train_data), size=(1,)).item()\n",
    "img, label = train_data[random_idx][0], train_data[random_idx][1]"
   ]
  },
  {
   "cell_type": "code",
   "execution_count": 14,
   "id": "95c8da44",
   "metadata": {
    "execution": {
     "iopub.execute_input": "2025-04-26T19:15:05.818946Z",
     "iopub.status.busy": "2025-04-26T19:15:05.818716Z",
     "iopub.status.idle": "2025-04-26T19:15:06.148220Z",
     "shell.execute_reply": "2025-04-26T19:15:06.147486Z"
    },
    "papermill": {
     "duration": 0.339321,
     "end_time": "2025-04-26T19:15:06.151387",
     "exception": false,
     "start_time": "2025-04-26T19:15:05.812066",
     "status": "completed"
    },
    "tags": []
   },
   "outputs": [
    {
     "name": "stdout",
     "output_type": "stream",
     "text": [
      "Image permute: torch.Size([224, 224, 3]) \n"
     ]
    },
    {
     "data": {
      "text/plain": [
       "Text(0.5, 1.0, 'squamous.cell.carcinoma_left.hilum')"
      ]
     },
     "execution_count": 14,
     "metadata": {},
     "output_type": "execute_result"
    },
    {
     "data": {
      "image/png": "[encoded data removed]",
      "text/plain": [
       "<Figure size 1200x700 with 1 Axes>"
      ]
     },
     "metadata": {},
     "output_type": "display_data"
    }
   ],
   "source": [
    "import random \n",
    "from PIL import Image\n",
    "import matplotlib.pyplot as plt\n",
    "random_idx = torch.randint(0, len(train_data), size=(1,)).item()\n",
    "img, label = train_data[random_idx][0], train_data[random_idx][1]\n",
    "\n",
    "\n",
    "img_permute = img.permute(1, 2, 0)\n",
    "print(f\"Image permute: {img_permute.shape} \")\n",
    "plt.figure(figsize=(12, 7))\n",
    "plt.imshow(img_permute)\n",
    "plt.axis(\"off\")\n",
    "plt.title(class_names[label], fontsize=14)"
   ]
  },
  {
   "cell_type": "code",
   "execution_count": 15,
   "id": "69f08ef7",
   "metadata": {
    "execution": {
     "iopub.execute_input": "2025-04-26T19:15:06.170990Z",
     "iopub.status.busy": "2025-04-26T19:15:06.170715Z",
     "iopub.status.idle": "2025-04-26T19:15:06.176944Z",
     "shell.execute_reply": "2025-04-26T19:15:06.176128Z"
    },
    "papermill": {
     "duration": 0.01739,
     "end_time": "2025-04-26T19:15:06.178323",
     "exception": false,
     "start_time": "2025-04-26T19:15:06.160933",
     "status": "completed"
    },
    "tags": []
   },
   "outputs": [
    {
     "data": {
      "text/plain": [
       "(<torch.utils.data.dataloader.DataLoader at 0x7c815465e590>,\n",
       " <torch.utils.data.dataloader.DataLoader at 0x7c815462c210>)"
      ]
     },
     "execution_count": 15,
     "metadata": {},
     "output_type": "execute_result"
    }
   ],
   "source": [
    "BATCH_SIZE=32\n",
    "train_dataloader = DataLoader(dataset=train_data,\n",
    "                              batch_size=BATCH_SIZE,\n",
    "                              num_workers=1,\n",
    "                              shuffle=True)\n",
    "\n",
    "test_dataloader = DataLoader(dataset=test_data,\n",
    "                             batch_size=BATCH_SIZE,\n",
    "                             num_workers=1,\n",
    "                             shuffle=False)\n",
    "\n",
    "train_dataloader, test_dataloader"
   ]
  },
  {
   "cell_type": "code",
   "execution_count": 16,
   "id": "e0520f09",
   "metadata": {
    "execution": {
     "iopub.execute_input": "2025-04-26T19:15:06.197305Z",
     "iopub.status.busy": "2025-04-26T19:15:06.197025Z",
     "iopub.status.idle": "2025-04-26T19:15:06.206034Z",
     "shell.execute_reply": "2025-04-26T19:15:06.205416Z"
    },
    "papermill": {
     "duration": 0.019958,
     "end_time": "2025-04-26T19:15:06.207282",
     "exception": false,
     "start_time": "2025-04-26T19:15:06.187324",
     "status": "completed"
    },
    "tags": []
   },
   "outputs": [
    {
     "data": {
      "text/plain": [
       "Sequential(\n",
       "  (0): Linear(in_features=512, out_features=512, bias=True)\n",
       "  (1): Dropout(p=0.2, inplace=False)\n",
       "  (2): Linear(in_features=512, out_features=256, bias=True)\n",
       "  (3): Linear(in_features=256, out_features=4, bias=True)\n",
       ")"
      ]
     },
     "execution_count": 16,
     "metadata": {},
     "output_type": "execute_result"
    }
   ],
   "source": [
    "resnet_model.fc = nn.Sequential (\n",
    "    nn.Linear(512,512),\n",
    "    nn.Dropout(0.2),\n",
    "     nn.Linear(512,256),\n",
    "    nn.Linear(256,len(class_names)), # -> len(labels) labels according to labels\n",
    ")\n",
    "resnet_model.fc"
   ]
  },
  {
   "cell_type": "code",
   "execution_count": 17,
   "id": "4b44b829",
   "metadata": {
    "execution": {
     "iopub.execute_input": "2025-04-26T19:15:06.226714Z",
     "iopub.status.busy": "2025-04-26T19:15:06.226457Z",
     "iopub.status.idle": "2025-04-26T19:15:06.230817Z",
     "shell.execute_reply": "2025-04-26T19:15:06.230252Z"
    },
    "papermill": {
     "duration": 0.015826,
     "end_time": "2025-04-26T19:15:06.231962",
     "exception": false,
     "start_time": "2025-04-26T19:15:06.216136",
     "status": "completed"
    },
    "tags": []
   },
   "outputs": [],
   "source": [
    "resnet_model.conv1 = nn.Conv2d(3, 64, kernel_size=(7, 7), stride=(2, 2), padding=(3, 3), bias=False)"
   ]
  },
  {
   "cell_type": "code",
   "execution_count": 18,
   "id": "bf00efd5",
   "metadata": {
    "execution": {
     "iopub.execute_input": "2025-04-26T19:15:06.250241Z",
     "iopub.status.busy": "2025-04-26T19:15:06.250028Z",
     "iopub.status.idle": "2025-04-26T19:15:06.254821Z",
     "shell.execute_reply": "2025-04-26T19:15:06.254012Z"
    },
    "papermill": {
     "duration": 0.015451,
     "end_time": "2025-04-26T19:15:06.256156",
     "exception": false,
     "start_time": "2025-04-26T19:15:06.240705",
     "status": "completed"
    },
    "tags": []
   },
   "outputs": [],
   "source": [
    "from torch.optim import lr_scheduler\n",
    "loss_fn = nn.CrossEntropyLoss()\n",
    "optimizer = torch.optim.Adam(resnet_model.parameters(), lr=0.01)\n",
    "optimizer = torch.optim.SGD(resnet_model.parameters(), lr=0.01, momentum=0.9)"
   ]
  },
  {
   "cell_type": "code",
   "execution_count": 19,
   "id": "da18d8de",
   "metadata": {
    "execution": {
     "iopub.execute_input": "2025-04-26T19:15:06.274282Z",
     "iopub.status.busy": "2025-04-26T19:15:06.274005Z",
     "iopub.status.idle": "2025-04-26T19:15:06.279736Z",
     "shell.execute_reply": "2025-04-26T19:15:06.279125Z"
    },
    "papermill": {
     "duration": 0.015961,
     "end_time": "2025-04-26T19:15:06.280762",
     "exception": false,
     "start_time": "2025-04-26T19:15:06.264801",
     "status": "completed"
    },
    "tags": []
   },
   "outputs": [],
   "source": [
    "def train_step(model: torch.nn.Module,\n",
    "               dataloader: torch.utils.data.DataLoader,\n",
    "               loss_fn: torch.nn.Module,\n",
    "               optimizer:torch.optim.Optimizer,\n",
    "               device=device):\n",
    "  model.train()\n",
    "\n",
    "  train_loss, train_acc = 0, 0\n",
    "\n",
    "  for batch, (X, y) in enumerate(dataloader):\n",
    "    X, y = X.to(device), y.to(device)\n",
    "\n",
    "    y_pred = model(X) \n",
    "\n",
    "\n",
    "    loss = loss_fn(y_pred, y)\n",
    "    train_loss += loss.item()\n",
    "\n",
    "  \n",
    "    optimizer.zero_grad()\n",
    "\n",
    "    \n",
    "    loss.backward()\n",
    "\n",
    "  \n",
    "    optimizer.step()\n",
    "\n",
    "    # Calculate accuracy metric\n",
    "    y_pred_class = torch.argmax(torch.softmax(y_pred, dim=1), dim=1)\n",
    "    train_acc += (y_pred_class==y).sum().item()/len(y_pred)\n",
    "  \n",
    "  # Adjust metrics to get average loss and accuracy per batch\n",
    "  train_loss = train_loss / len(dataloader)\n",
    "  train_acc = train_acc / len(dataloader) \n",
    "  return train_loss, train_acc "
   ]
  },
  {
   "cell_type": "code",
   "execution_count": 20,
   "id": "4cdc65c7",
   "metadata": {
    "execution": {
     "iopub.execute_input": "2025-04-26T19:15:06.300023Z",
     "iopub.status.busy": "2025-04-26T19:15:06.299795Z",
     "iopub.status.idle": "2025-04-26T19:15:06.304990Z",
     "shell.execute_reply": "2025-04-26T19:15:06.304431Z"
    },
    "papermill": {
     "duration": 0.016347,
     "end_time": "2025-04-26T19:15:06.306198",
     "exception": false,
     "start_time": "2025-04-26T19:15:06.289851",
     "status": "completed"
    },
    "tags": []
   },
   "outputs": [],
   "source": [
    "def test_step(model: torch.nn.Module,\n",
    "              dataloader: torch.utils.data.DataLoader,\n",
    "              loss_fn: torch.nn.Module,\n",
    "              device=device):\n",
    "  model.eval()\n",
    "\n",
    "  test_loss, test_acc = 0,  0\n",
    "\n",
    "  with torch.inference_mode():\n",
    "    for batch, (X, y) in enumerate(dataloader): \n",
    "      X, y = X.to(device), y.to(device)\n",
    "\n",
    "      test_pred_logits = model(X)\n",
    "\n",
    "     \n",
    "      loss = loss_fn(test_pred_logits, y)\n",
    "      test_loss += loss.item()\n",
    "\n",
    "    \n",
    "      test_pred_labels = test_pred_logits.argmax(dim=1)\n",
    "      test_acc += ((test_pred_labels == y).sum().item()/len(test_pred_labels))\n",
    "\n",
    "  # Adjust metrics to get average loss and accuracy per batch\n",
    "  test_loss = test_loss / len(dataloader)\n",
    "  test_acc = test_acc / len(dataloader)\n",
    "  return test_loss, test_acc"
   ]
  },
  {
   "cell_type": "code",
   "execution_count": 21,
   "id": "8b3fd4c2",
   "metadata": {
    "execution": {
     "iopub.execute_input": "2025-04-26T19:15:06.325204Z",
     "iopub.status.busy": "2025-04-26T19:15:06.324613Z",
     "iopub.status.idle": "2025-04-26T19:15:06.339952Z",
     "shell.execute_reply": "2025-04-26T19:15:06.339374Z"
    },
    "papermill": {
     "duration": 0.026096,
     "end_time": "2025-04-26T19:15:06.341300",
     "exception": false,
     "start_time": "2025-04-26T19:15:06.315204",
     "status": "completed"
    },
    "tags": []
   },
   "outputs": [],
   "source": [
    "from tqdm.auto import tqdm\n",
    "\n",
    "def train(model: torch.nn.Module,\n",
    "          train_dataloader,\n",
    "          test_dataloader,\n",
    "          optimizer,\n",
    "          loss_fn: torch.nn.Module = nn.CrossEntropyLoss(),\n",
    "          epochs: int = 5, \n",
    "          device=device):\n",
    "  \n",
    "  results = {\"train_loss\": [],\n",
    "             \"train_acc\": [],\n",
    "             \"test_loss\": [],\n",
    "             \"test_acc\": []}\n",
    "  \n",
    "  for epoch in tqdm(range(epochs)):\n",
    "    train_loss, train_acc = train_step(model=model,\n",
    "                                       dataloader=train_dataloader,\n",
    "                                       loss_fn=loss_fn,\n",
    "                                       optimizer=optimizer,\n",
    "                                       device=device)\n",
    "    test_loss, test_acc = test_step(model=model,\n",
    "                                    dataloader=test_dataloader,\n",
    "                                    loss_fn=loss_fn,\n",
    "                                    device=device)\n",
    "    \n",
    "    print(f\"Epoch: {epoch} | Train loss: {train_loss:.4f} | Train acc: {train_acc:.4f} | Test loss: {test_loss:.4f} | Test acc: {test_acc:.4f}\")\n",
    "\n",
    "    results[\"train_loss\"].append(train_loss)\n",
    "    results[\"train_acc\"].append(train_acc)\n",
    "    results[\"test_loss\"].append(test_loss)\n",
    "    results[\"test_acc\"].append(test_acc)\n",
    "  \n",
    "  return results"
   ]
  },
  {
   "cell_type": "code",
   "execution_count": 22,
   "id": "b4df3a87",
   "metadata": {
    "execution": {
     "iopub.execute_input": "2025-04-26T19:15:06.360737Z",
     "iopub.status.busy": "2025-04-26T19:15:06.360513Z",
     "iopub.status.idle": "2025-04-26T19:17:47.063666Z",
     "shell.execute_reply": "2025-04-26T19:17:47.062599Z"
    },
    "papermill": {
     "duration": 160.714644,
     "end_time": "2025-04-26T19:17:47.065930",
     "exception": false,
     "start_time": "2025-04-26T19:15:06.351286",
     "status": "completed"
    },
    "tags": []
   },
   "outputs": [
    {
     "data": {
      "application/vnd.jupyter.widget-view+json": {
       "model_id": "072643828db7489a86bf48280361f74c",
       "version_major": 2,
       "version_minor": 0
      },
      "text/plain": [
       "  0%|          | 0/15 [00:00<?, ?it/s]"
      ]
     },
     "metadata": {},
     "output_type": "display_data"
    },
    {
     "name": "stdout",
     "output_type": "stream",
     "text": [
      "Epoch: 0 | Train loss: 1.0738 | Train acc: 0.5269 | Test loss: 1.9346 | Test acc: 0.3426\n",
      "Epoch: 1 | Train loss: 0.6587 | Train acc: 0.7291 | Test loss: 0.8862 | Test acc: 0.5784\n",
      "Epoch: 2 | Train loss: 0.3843 | Train acc: 0.8766 | Test loss: 0.8962 | Test acc: 0.7028\n",
      "Epoch: 3 | Train loss: 0.4985 | Train acc: 0.7934 | Test loss: 1.5754 | Test acc: 0.3961\n",
      "Epoch: 4 | Train loss: 0.4379 | Train acc: 0.8344 | Test loss: 0.5702 | Test acc: 0.7763\n",
      "Epoch: 5 | Train loss: 0.2345 | Train acc: 0.9103 | Test loss: 1.4007 | Test acc: 0.6984\n",
      "Epoch: 6 | Train loss: 0.2901 | Train acc: 0.9047 | Test loss: 0.6318 | Test acc: 0.7584\n",
      "Epoch: 7 | Train loss: 0.1839 | Train acc: 0.9281 | Test loss: 0.4529 | Test acc: 0.8389\n",
      "Epoch: 8 | Train loss: 0.1855 | Train acc: 0.9331 | Test loss: 0.4987 | Test acc: 0.8321\n",
      "Epoch: 9 | Train loss: 0.1591 | Train acc: 0.9453 | Test loss: 0.6817 | Test acc: 0.7858\n",
      "Epoch: 10 | Train loss: 0.1888 | Train acc: 0.9619 | Test loss: 0.3703 | Test acc: 0.8719\n",
      "Epoch: 11 | Train loss: 0.1325 | Train acc: 0.9578 | Test loss: 0.5356 | Test acc: 0.8372\n",
      "Epoch: 12 | Train loss: 0.1141 | Train acc: 0.9703 | Test loss: 0.7581 | Test acc: 0.8051\n",
      "Epoch: 13 | Train loss: 0.1046 | Train acc: 0.9603 | Test loss: 0.4106 | Test acc: 0.8946\n",
      "Epoch: 14 | Train loss: 0.2350 | Train acc: 0.9219 | Test loss: 0.6380 | Test acc: 0.8309\n",
      "Total training time: 160.697 seconds\n"
     ]
    }
   ],
   "source": [
    "NUM_EPOCHS = 15\n",
    "\n",
    "# Start the timer\n",
    "from timeit import default_timer as timer\n",
    "start_time = timer()\n",
    "\n",
    "# Move the model to the device (VERY IMPORTANT)\n",
    "resnet_model = resnet_model.to(device)\n",
    "\n",
    "# Now train the model\n",
    "model_0_results = train(model=resnet_model,\n",
    "                        train_dataloader=train_dataloader,\n",
    "                        test_dataloader=test_dataloader,\n",
    "                        optimizer=optimizer,\n",
    "                        loss_fn=loss_fn,\n",
    "                        epochs=NUM_EPOCHS,\n",
    "                        device=device)\n",
    "\n",
    "# End the timer and print out how long it took\n",
    "end_time = timer()\n",
    "print(f\"Total training time: {end_time-start_time:.3f} seconds\")\n"
   ]
  },
  {
   "cell_type": "code",
   "execution_count": 23,
   "id": "46d65f8f",
   "metadata": {
    "execution": {
     "iopub.execute_input": "2025-04-26T19:17:47.088253Z",
     "iopub.status.busy": "2025-04-26T19:17:47.087599Z",
     "iopub.status.idle": "2025-04-26T19:17:47.173140Z",
     "shell.execute_reply": "2025-04-26T19:17:47.172260Z"
    },
    "papermill": {
     "duration": 0.098215,
     "end_time": "2025-04-26T19:17:47.174781",
     "exception": false,
     "start_time": "2025-04-26T19:17:47.076566",
     "status": "completed"
    },
    "tags": []
   },
   "outputs": [],
   "source": [
    "torch.save(resnet_model.state_dict(), \"chest_cancer_model.pth\")"
   ]
  },
  {
   "cell_type": "code",
   "execution_count": 24,
   "id": "d289fd3a",
   "metadata": {
    "execution": {
     "iopub.execute_input": "2025-04-26T19:17:47.196611Z",
     "iopub.status.busy": "2025-04-26T19:17:47.196160Z",
     "iopub.status.idle": "2025-04-26T19:17:47.201362Z",
     "shell.execute_reply": "2025-04-26T19:17:47.200597Z"
    },
    "papermill": {
     "duration": 0.017419,
     "end_time": "2025-04-26T19:17:47.202558",
     "exception": false,
     "start_time": "2025-04-26T19:17:47.185139",
     "status": "completed"
    },
    "tags": []
   },
   "outputs": [
    {
     "name": "stdout",
     "output_type": "stream",
     "text": [
      "numpy version: 1.26.4\n",
      "seaborn version: 0.12.2\n",
      "matplotlib version: 3.7.5\n",
      "pandas version: 2.2.3\n",
      "torch version: 2.5.1+cu124\n",
      "torchvision version: 0.20.1+cu124\n",
      "scikit-learn version: 1.2.2\n"
     ]
    }
   ],
   "source": [
    "import torchvision\n",
    "print(f\"numpy version: {np.__version__}\")\n",
    "print(f\"seaborn version: {sns.__version__}\")\n",
    "print(f\"matplotlib version: {plt.matplotlib.__version__}\")\n",
    "print(f\"pandas version: {pd.__version__}\")\n",
    "print(f\"torch version: {torch.__version__}\")\n",
    "print(f\"torchvision version: {torchvision.__version__}\")\n",
    "import sklearn\n",
    "print(f\"scikit-learn version: {sklearn.__version__}\")"
   ]
  },
  {
   "cell_type": "code",
   "execution_count": null,
   "id": "0d09f715",
   "metadata": {
    "papermill": {
     "duration": 0.009469,
     "end_time": "2025-04-26T19:17:47.221977",
     "exception": false,
     "start_time": "2025-04-26T19:17:47.212508",
     "status": "completed"
    },
    "tags": []
   },
   "outputs": [],
   "source": []
  },
  {
   "cell_type": "code",
   "execution_count": null,
   "id": "0ff013b3",
   "metadata": {
    "papermill": {
     "duration": 0.009708,
     "end_time": "2025-04-26T19:17:47.241567",
     "exception": false,
     "start_time": "2025-04-26T19:17:47.231859",
     "status": "completed"
    },
    "tags": []
   },
   "outputs": [],
   "source": []
  }
 ],
 "metadata": {
  "kaggle": {
   "accelerator": "nvidiaTeslaT4",
   "dataSources": [
    {
     "datasetId": 839140,
     "sourceId": 1432479,
     "sourceType": "datasetVersion"
    }
   ],
   "dockerImageVersionId": 31011,
   "isGpuEnabled": true,
   "isInternetEnabled": true,
   "language": "python",
   "sourceType": "notebook"
  },
  "kernelspec": {
   "display_name": "Python 3",
   "language": "python",
   "name": "python3"
  },
  "language_info": {
   "codemirror_mode": {
    "name": "ipython",
    "version": 3
   },
   "file_extension": ".py",
   "mimetype": "text/x-python",
   "name": "python",
   "nbconvert_exporter": "python",
   "pygments_lexer": "ipython3",
   "version": "3.11.11"
  },
  "papermill": {
   "default_parameters": {},
   "duration": 189.489109,
   "end_time": "2025-04-26T19:17:50.286238",
   "environment_variables": {},
   "exception": null,
   "input_path": "__notebook__.ipynb",
   "output_path": "__notebook__.ipynb",
   "parameters": {},
   "start_time": "2025-04-26T19:14:40.797129",
   "version": "2.6.0"
  },
  "widgets": {
   "application/vnd.jupyter.widget-state+json": {
    "state": {
     "072643828db7489a86bf48280361f74c": {
      "model_module": "@jupyter-widgets/controls",
      "model_module_version": "2.0.0",
      "model_name": "HBoxModel",
      "state": {
       "_dom_classes": [],
       "_model_module": "@jupyter-widgets/controls",
       "_model_module_version": "2.0.0",
       "_model_name": "HBoxModel",
       "_view_count": null,
       "_view_module": "@jupyter-widgets/controls",
       "_view_module_version": "2.0.0",
       "_view_name": "HBoxView",
       "box_style": "",
       "children": [
        "IPY_MODEL_913f3a61edd646c0802999457d0fe63e",
        "IPY_MODEL_4f2af10cf2244f1b9b0e2f1a8cd3ec47",
        "IPY_MODEL_d35168404ec84f27b45b080db4d2b4e3"
       ],
       "layout": "IPY_MODEL_e16623ffbaee4b1d8412b39628969510",
       "tabbable": null,
       "tooltip": null
      }
     },
     "17662b42bec045f18d1014d75264726d": {
      "model_module": "@jupyter-widgets/base",
      "model_module_version": "2.0.0",
      "model_name": "LayoutModel",
      "state": {
       "_model_module": "@jupyter-widgets/base",
       "_model_module_version": "2.0.0",
       "_model_name": "LayoutModel",
       "_view_count": null,
       "_view_module": "@jupyter-widgets/base",
       "_view_module_version": "2.0.0",
       "_view_name": "LayoutView",
       "align_content": null,
       "align_items": null,
       "align_self": null,
       "border_bottom": null,
       "border_left": null,
       "border_right": null,
       "border_top": null,
       "bottom": null,
       "display": null,
       "flex": null,
       "flex_flow": null,
       "grid_area": null,
       "grid_auto_columns": null,
       "grid_auto_flow": null,
       "grid_auto_rows": null,
       "grid_column": null,
       "grid_gap": null,
       "grid_row": null,
       "grid_template_areas": null,
       "grid_template_columns": null,
       "grid_template_rows": null,
       "height": null,
       "justify_content": null,
       "justify_items": null,
       "left": null,
       "margin": null,
       "max_height": null,
       "max_width": null,
       "min_height": null,
       "min_width": null,
       "object_fit": null,
       "object_position": null,
       "order": null,
       "overflow": null,
       "padding": null,
       "right": null,
       "top": null,
       "visibility": null,
       "width": null
      }
     },
     "3095a09f38c242d082f772e239d7247c": {
      "model_module": "@jupyter-widgets/controls",
      "model_module_version": "2.0.0",
      "model_name": "ProgressStyleModel",
      "state": {
       "_model_module": "@jupyter-widgets/controls",
       "_model_module_version": "2.0.0",
       "_model_name": "ProgressStyleModel",
       "_view_count": null,
       "_view_module": "@jupyter-widgets/base",
       "_view_module_version": "2.0.0",
       "_view_name": "StyleView",
       "bar_color": null,
       "description_width": ""
      }
     },
     "4f2af10cf2244f1b9b0e2f1a8cd3ec47": {
      "model_module": "@jupyter-widgets/controls",
      "model_module_version": "2.0.0",
      "model_name": "FloatProgressModel",
      "state": {
       "_dom_classes": [],
       "_model_module": "@jupyter-widgets/controls",
       "_model_module_version": "2.0.0",
       "_model_name": "FloatProgressModel",
       "_view_count": null,
       "_view_module": "@jupyter-widgets/controls",
       "_view_module_version": "2.0.0",
       "_view_name": "ProgressView",
       "bar_style": "success",
       "description": "",
       "description_allow_html": false,
       "layout": "IPY_MODEL_17662b42bec045f18d1014d75264726d",
       "max": 15.0,
       "min": 0.0,
       "orientation": "horizontal",
       "style": "IPY_MODEL_3095a09f38c242d082f772e239d7247c",
       "tabbable": null,
       "tooltip": null,
       "value": 15.0
      }
     },
     "6dc985f9627e4a25a38348fc2a3b623b": {
      "model_module": "@jupyter-widgets/controls",
      "model_module_version": "2.0.0",
      "model_name": "HTMLStyleModel",
      "state": {
       "_model_module": "@jupyter-widgets/controls",
       "_model_module_version": "2.0.0",
       "_model_name": "HTMLStyleModel",
       "_view_count": null,
       "_view_module": "@jupyter-widgets/base",
       "_view_module_version": "2.0.0",
       "_view_name": "StyleView",
       "background": null,
       "description_width": "",
       "font_size": null,
       "text_color": null
      }
     },
     "86eb08430e244be39d9530c1608a89f8": {
      "model_module": "@jupyter-widgets/base",
      "model_module_version": "2.0.0",
      "model_name": "LayoutModel",
      "state": {
       "_model_module": "@jupyter-widgets/base",
       "_model_module_version": "2.0.0",
       "_model_name": "LayoutModel",
       "_view_count": null,
       "_view_module": "@jupyter-widgets/base",
       "_view_module_version": "2.0.0",
       "_view_name": "LayoutView",
       "align_content": null,
       "align_items": null,
       "align_self": null,
       "border_bottom": null,
       "border_left": null,
       "border_right": null,
       "border_top": null,
       "bottom": null,
       "display": null,
       "flex": null,
       "flex_flow": null,
       "grid_area": null,
       "grid_auto_columns": null,
       "grid_auto_flow": null,
       "grid_auto_rows": null,
       "grid_column": null,
       "grid_gap": null,
       "grid_row": null,
       "grid_template_areas": null,
       "grid_template_columns": null,
       "grid_template_rows": null,
       "height": null,
       "justify_content": null,
       "justify_items": null,
       "left": null,
       "margin": null,
       "max_height": null,
       "max_width": null,
       "min_height": null,
       "min_width": null,
       "object_fit": null,
       "object_position": null,
       "order": null,
       "overflow": null,
       "padding": null,
       "right": null,
       "top": null,
       "visibility": null,
       "width": null
      }
     },
     "913f3a61edd646c0802999457d0fe63e": {
      "model_module": "@jupyter-widgets/controls",
      "model_module_version": "2.0.0",
      "model_name": "HTMLModel",
      "state": {
       "_dom_classes": [],
       "_model_module": "@jupyter-widgets/controls",
       "_model_module_version": "2.0.0",
       "_model_name": "HTMLModel",
       "_view_count": null,
       "_view_module": "@jupyter-widgets/controls",
       "_view_module_version": "2.0.0",
       "_view_name": "HTMLView",
       "description": "",
       "description_allow_html": false,
       "layout": "IPY_MODEL_ac1cddbeeb6d4bf0a5170e9c2c288eb4",
       "placeholder": "​",
       "style": "IPY_MODEL_6dc985f9627e4a25a38348fc2a3b623b",
       "tabbable": null,
       "tooltip": null,
       "value": "100%"
      }
     },
     "ac1cddbeeb6d4bf0a5170e9c2c288eb4": {
      "model_module": "@jupyter-widgets/base",
      "model_module_version": "2.0.0",
      "model_name": "LayoutModel",
      "state": {
       "_model_module": "@jupyter-widgets/base",
       "_model_module_version": "2.0.0",
       "_model_name": "LayoutModel",
       "_view_count": null,
       "_view_module": "@jupyter-widgets/base",
       "_view_module_version": "2.0.0",
       "_view_name": "LayoutView",
       "align_content": null,
       "align_items": null,
       "align_self": null,
       "border_bottom": null,
       "border_left": null,
       "border_right": null,
       "border_top": null,
       "bottom": null,
       "display": null,
       "flex": null,
       "flex_flow": null,
       "grid_area": null,
       "grid_auto_columns": null,
       "grid_auto_flow": null,
       "grid_auto_rows": null,
       "grid_column": null,
       "grid_gap": null,
       "grid_row": null,
       "grid_template_areas": null,
       "grid_template_columns": null,
       "grid_template_rows": null,
       "height": null,
       "justify_content": null,
       "justify_items": null,
       "left": null,
       "margin": null,
       "max_height": null,
       "max_width": null,
       "min_height": null,
       "min_width": null,
       "object_fit": null,
       "object_position": null,
       "order": null,
       "overflow": null,
       "padding": null,
       "right": null,
       "top": null,
       "visibility": null,
       "width": null
      }
     },
     "d35168404ec84f27b45b080db4d2b4e3": {
      "model_module": "@jupyter-widgets/controls",
      "model_module_version": "2.0.0",
      "model_name": "HTMLModel",
      "state": {
       "_dom_classes": [],
       "_model_module": "@jupyter-widgets/controls",
       "_model_module_version": "2.0.0",
       "_model_name": "HTMLModel",
       "_view_count": null,
       "_view_module": "@jupyter-widgets/controls",
       "_view_module_version": "2.0.0",
       "_view_name": "HTMLView",
       "description": "",
       "description_allow_html": false,
       "layout": "IPY_MODEL_86eb08430e244be39d9530c1608a89f8",
       "placeholder": "​",
       "style": "IPY_MODEL_f3adb06beada4f34843a363d8099729e",
       "tabbable": null,
       "tooltip": null,
       "value": " 15/15 [02:40&lt;00:00, 11.21s/it]"
      }
     },
     "e16623ffbaee4b1d8412b39628969510": {
      "model_module": "@jupyter-widgets/base",
      "model_module_version": "2.0.0",
      "model_name": "LayoutModel",
      "state": {
       "_model_module": "@jupyter-widgets/base",
       "_model_module_version": "2.0.0",
       "_model_name": "LayoutModel",
       "_view_count": null,
       "_view_module": "@jupyter-widgets/base",
       "_view_module_version": "2.0.0",
       "_view_name": "LayoutView",
       "align_content": null,
       "align_items": null,
       "align_self": null,
       "border_bottom": null,
       "border_left": null,
       "border_right": null,
       "border_top": null,
       "bottom": null,
       "display": null,
       "flex": null,
       "flex_flow": null,
       "grid_area": null,
       "grid_auto_columns": null,
       "grid_auto_flow": null,
       "grid_auto_rows": null,
       "grid_column": null,
       "grid_gap": null,
       "grid_row": null,
       "grid_template_areas": null,
       "grid_template_columns": null,
       "grid_template_rows": null,
       "height": null,
       "justify_content": null,
       "justify_items": null,
       "left": null,
       "margin": null,
       "max_height": null,
       "max_width": null,
       "min_height": null,
       "min_width": null,
       "object_fit": null,
       "object_position": null,
       "order": null,
       "overflow": null,
       "padding": null,
       "right": null,
       "top": null,
       "visibility": null,
       "width": null
      }
     },
     "f3adb06beada4f34843a363d8099729e": {
      "model_module": "@jupyter-widgets/controls",
      "model_module_version": "2.0.0",
      "model_name": "HTMLStyleModel",
      "state": {
       "_model_module": "@jupyter-widgets/controls",
       "_model_module_version": "2.0.0",
       "_model_name": "HTMLStyleModel",
       "_view_count": null,
       "_view_module": "@jupyter-widgets/base",
       "_view_module_version": "2.0.0",
       "_view_name": "StyleView",
       "background": null,
       "description_width": "",
       "font_size": null,
       "text_color": null
      }
     }
    },
    "version_major": 2,
    "version_minor": 0
   }
  }
 },
 "nbformat": 4,
 "nbformat_minor": 5
}
